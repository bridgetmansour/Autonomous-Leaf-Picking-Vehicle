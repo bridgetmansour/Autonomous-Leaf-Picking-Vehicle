{
 "cells": [
  {
   "cell_type": "code",
   "execution_count": 1,
   "metadata": {},
   "outputs": [],
   "source": [
    "#import libraries\n",
    "##from camera import *\n",
    "import numpy as np\n",
    "import matplotlib.pyplot as plt\n",
    "import matplotlib.image as img\n",
    "import cv2\n",
    "##import serial\n",
    "import math\n",
    "import time\n",
    "%matplotlib inline"
   ]
  },
  {
   "cell_type": "code",
   "execution_count": 2,
   "metadata": {},
   "outputs": [],
   "source": [
    "#connects arduino\n",
    "##ser = serial.Serial('/dev/ttyACM0', 19200, timeout=1)"
   ]
  },
  {
   "cell_type": "code",
   "execution_count": 3,
   "metadata": {},
   "outputs": [],
   "source": [
    "def start():\n",
    "    \n",
    "\n",
    "    #retakes picture when restart is set to 1\n",
    "    ##if restart == 1:\n",
    "        ##camera.capture('/home/pi/Desktop/currentPic' + '.jpg')    \n",
    "\n",
    "\n",
    "    #reads image\n",
    "    filePath = 'currentPic.jpg'\n",
    "    image = img.imread(filePath,format = 'RGB')\n",
    "    plt.imshow(image)\n",
    "\n",
    "\n",
    "    #blurs image\n",
    "    blurImage = cv2.GaussianBlur(image, (25,25),0)\n",
    "    plt.imshow(blurImage)\n",
    "\n",
    "\n",
    "    #converts image from RGB to HSV\n",
    "    imageInHSV = cv2.cvtColor(blurImage,cv2.COLOR_RGB2HSV)\n",
    "\n",
    "\n",
    "    #creates a green color range mask\n",
    "    lowerLimit = (40, 27, 19)\n",
    "    upperLimit = (108, 255, 180)\n",
    "    greenMask = cv2.inRange(imageInHSV, lowerLimit, upperLimit)\n",
    "\n",
    "    isGreen = greenMask > 0\n",
    "    greenOnly = np.zeros_like(blurImage, np.uint8)\n",
    "    greenOnly[isGreen] = blurImage[isGreen]\n",
    "    plt.imshow(greenOnly)\n",
    "\n",
    "\n",
    "    #identifies if there is a potential leaf\n",
    "    blackImage = np.zeros_like(isGreen)\n",
    "    percentGreen = math.sqrt(np.mean(blackImage != isGreen))\n",
    "\n",
    "\n",
    "    #finds potential leaf's coordinates within picture\n",
    "    sumRows = np.sum(isGreen, axis=1)\n",
    "    sumColumns = np.sum(isGreen.T, axis=1)\n",
    "\n",
    "    index = 0\n",
    "    longestRow = 0\n",
    "    longestIndexRow = 0\n",
    "    for row in sumRows:\n",
    "        if row > longestRow:\n",
    "            longestRow = row\n",
    "            longestIndexRow = index\n",
    "        index = index + 1\n",
    "        \n",
    "    index = 0\n",
    "    longestColumn = 0\n",
    "    longestIndexColumn = 0\n",
    "    for column in sumColumns:\n",
    "        \n",
    "        if column > longestColumn:\n",
    "            longestColumn = column\n",
    "            longestIndexColumn = index\n",
    "        index = index + 1\n",
    "\n",
    "    print(f'Pixel coordinates for the center of the potential leaf: ({longestIndexRow}, {longestIndexColumn})')\n",
    "    \n",
    "    \n",
    "    #finds the direction that the arm needs to move to grab leaf\n",
    "    pixelToDegree = 65/1024\n",
    "    centerColumn = 1024/2\n",
    "    direction = np.abs(longestIndexColumn - centerColumn) * pixelToDegree\n",
    "\n",
    "\n",
    "    #finds the distance that the car needs to move to face leaf\n",
    "    inchesToLeaf = longestIndexRow * (22.5/768)\n",
    "    inchesToLeaf = inchesToLeaf - 6\n",
    "\n",
    "    \n",
    "    if percentGreen > 0.1 and longestIndexRow > 768/2:\n",
    "        \n",
    "        #isLeaf shape check\n",
    "        #...\n",
    "        #returns\n",
    "        isLeaf = True #TESTING\n",
    "        #or \n",
    "        isLeaf = False #TESTING\n",
    "\n",
    "        if isLeaf == True:\n",
    "\n",
    "            if centerColumn > longestIndexColumn:\n",
    "                direction = direction + 32.5\n",
    "                print(f'Turn {round(direction, 2)} degrees to the left to grab the leaf')\n",
    "            else:\n",
    "                print(f'Turn {round(direction, 2)} degrees to the right to grab the leaf')\n",
    "\n",
    "            print(f'The leaf is {round(inchesToLeaf, 2)} inches away')\n",
    "            \n",
    "    else:\n",
    "        isLeaf = False\n",
    "        inchesToLeaf = 0\n",
    "        print('There is no leaf within range')\n",
    "        \n",
    "    isLeaf = True #REMOVE AFTER TESTING\n",
    "    return(isLeaf, inchesToLeaf)"
   ]
  },
  {
   "cell_type": "code",
   "execution_count": 4,
   "metadata": {},
   "outputs": [
    {
     "name": "stdout",
     "output_type": "stream",
     "text": [
      "Pixel coordinates for the center of the potential leaf: (674, 404)\n",
      "True\n",
      "13.74609375\n",
      "done\n"
     ]
    },
    {
     "data": {
      "image/png": "[encoded data removed]",
      "text/plain": [
       "<Figure size 432x288 with 1 Axes>"
      ]
     },
     "metadata": {
      "needs_background": "light"
     },
     "output_type": "display_data"
    }
   ],
   "source": [
    "try:\n",
    "    K = False\n",
    "    while K == False:\n",
    "        restart = 1\n",
    "        K, I = start()\n",
    "        ##...\n",
    "        print(K)\n",
    "        print(I)\n",
    "finally:\n",
    "    print('done')"
   ]
  }
 ],
 "metadata": {
  "kernelspec": {
   "display_name": "Python 3",
   "language": "python",
   "name": "python3"
  },
  "language_info": {
   "codemirror_mode": {
    "name": "ipython",
    "version": 3
   },
   "file_extension": ".py",
   "mimetype": "text/x-python",
   "name": "python",
   "nbconvert_exporter": "python",
   "pygments_lexer": "ipython3",
   "version": "3.8.1"
  }
 },
 "nbformat": 4,
 "nbformat_minor": 2
}
